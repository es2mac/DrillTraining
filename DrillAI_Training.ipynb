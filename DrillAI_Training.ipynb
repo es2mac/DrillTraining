{
  "nbformat": 4,
  "nbformat_minor": 0,
  "metadata": {
    "colab": {
      "name": "DrillAI Training.ipynb",
      "provenance": [],
      "collapsed_sections": [
        "Inhs_CxnZL8v",
        "hfKA_-L7p_B2",
        "0F1afBfNb9db"
      ],
      "authorship_tag": "ABX9TyP4uFR1pgfwZd1ooOF30lBy",
      "include_colab_link": true
    },
    "kernelspec": {
      "name": "python3",
      "display_name": "Python 3"
    },
    "language_info": {
      "name": "python"
    },
    "widgets": {
      "application/vnd.jupyter.widget-state+json": {
        "f73f97f6fb2f4eb18250cb44b7934fe4": {
          "model_module": "@jupyter-widgets/controls",
          "model_name": "HBoxModel",
          "model_module_version": "1.5.0",
          "state": {
            "_view_name": "HBoxView",
            "_dom_classes": [],
            "_model_name": "HBoxModel",
            "_view_module": "@jupyter-widgets/controls",
            "_model_module_version": "1.5.0",
            "_view_count": null,
            "_view_module_version": "1.5.0",
            "box_style": "",
            "layout": "IPY_MODEL_8ffd0c1af0444860bb5cde487940001e",
            "_model_module": "@jupyter-widgets/controls",
            "children": [
              "IPY_MODEL_391dbf3ff22246eda3599e6b9d0f9356",
              "IPY_MODEL_47c047b34d1c4f3ca59ea4caba1747ed",
              "IPY_MODEL_2ea21bc3736b40db834d18cb3ef521cb"
            ]
          }
        },
        "8ffd0c1af0444860bb5cde487940001e": {
          "model_module": "@jupyter-widgets/base",
          "model_name": "LayoutModel",
          "model_module_version": "1.2.0",
          "state": {
            "_view_name": "LayoutView",
            "grid_template_rows": null,
            "right": null,
            "justify_content": null,
            "_view_module": "@jupyter-widgets/base",
            "overflow": null,
            "_model_module_version": "1.2.0",
            "_view_count": null,
            "flex_flow": null,
            "width": null,
            "min_width": null,
            "border": null,
            "align_items": null,
            "bottom": null,
            "_model_module": "@jupyter-widgets/base",
            "top": null,
            "grid_column": null,
            "overflow_y": null,
            "overflow_x": null,
            "grid_auto_flow": null,
            "grid_area": null,
            "grid_template_columns": null,
            "flex": null,
            "_model_name": "LayoutModel",
            "justify_items": null,
            "grid_row": null,
            "max_height": null,
            "align_content": null,
            "visibility": null,
            "align_self": null,
            "height": null,
            "min_height": null,
            "padding": null,
            "grid_auto_rows": null,
            "grid_gap": null,
            "max_width": null,
            "order": null,
            "_view_module_version": "1.2.0",
            "grid_template_areas": null,
            "object_position": null,
            "object_fit": null,
            "grid_auto_columns": null,
            "margin": null,
            "display": null,
            "left": null
          }
        },
        "391dbf3ff22246eda3599e6b9d0f9356": {
          "model_module": "@jupyter-widgets/controls",
          "model_name": "HTMLModel",
          "model_module_version": "1.5.0",
          "state": {
            "_view_name": "HTMLView",
            "style": "IPY_MODEL_abeef69df2554ebebaaf9cc896a16293",
            "_dom_classes": [],
            "description": "",
            "_model_name": "HTMLModel",
            "placeholder": "​",
            "_view_module": "@jupyter-widgets/controls",
            "_model_module_version": "1.5.0",
            "value": "100%",
            "_view_count": null,
            "_view_module_version": "1.5.0",
            "description_tooltip": null,
            "_model_module": "@jupyter-widgets/controls",
            "layout": "IPY_MODEL_7ef424da0c1d46e98d1d7016ba6eeac2"
          }
        },
        "47c047b34d1c4f3ca59ea4caba1747ed": {
          "model_module": "@jupyter-widgets/controls",
          "model_name": "FloatProgressModel",
          "model_module_version": "1.5.0",
          "state": {
            "_view_name": "ProgressView",
            "style": "IPY_MODEL_56c6ae6b97f5475c831c294311b8a729",
            "_dom_classes": [],
            "description": "",
            "_model_name": "FloatProgressModel",
            "bar_style": "success",
            "max": 14212972,
            "_view_module": "@jupyter-widgets/controls",
            "_model_module_version": "1.5.0",
            "value": 14212972,
            "_view_count": null,
            "_view_module_version": "1.5.0",
            "orientation": "horizontal",
            "min": 0,
            "description_tooltip": null,
            "_model_module": "@jupyter-widgets/controls",
            "layout": "IPY_MODEL_ecfa17798b6e4a6a80d740e9868f22b3"
          }
        },
        "2ea21bc3736b40db834d18cb3ef521cb": {
          "model_module": "@jupyter-widgets/controls",
          "model_name": "HTMLModel",
          "model_module_version": "1.5.0",
          "state": {
            "_view_name": "HTMLView",
            "style": "IPY_MODEL_59c3b62188f54d7cbf8ffc44acb80228",
            "_dom_classes": [],
            "description": "",
            "_model_name": "HTMLModel",
            "placeholder": "​",
            "_view_module": "@jupyter-widgets/controls",
            "_model_module_version": "1.5.0",
            "value": " 13.6M/13.6M [00:00&lt;00:00, 37.0MB/s]",
            "_view_count": null,
            "_view_module_version": "1.5.0",
            "description_tooltip": null,
            "_model_module": "@jupyter-widgets/controls",
            "layout": "IPY_MODEL_d71fa8f3b93441c9a2a5f3869aa8de37"
          }
        },
        "abeef69df2554ebebaaf9cc896a16293": {
          "model_module": "@jupyter-widgets/controls",
          "model_name": "DescriptionStyleModel",
          "model_module_version": "1.5.0",
          "state": {
            "_view_name": "StyleView",
            "_model_name": "DescriptionStyleModel",
            "description_width": "",
            "_view_module": "@jupyter-widgets/base",
            "_model_module_version": "1.5.0",
            "_view_count": null,
            "_view_module_version": "1.2.0",
            "_model_module": "@jupyter-widgets/controls"
          }
        },
        "7ef424da0c1d46e98d1d7016ba6eeac2": {
          "model_module": "@jupyter-widgets/base",
          "model_name": "LayoutModel",
          "model_module_version": "1.2.0",
          "state": {
            "_view_name": "LayoutView",
            "grid_template_rows": null,
            "right": null,
            "justify_content": null,
            "_view_module": "@jupyter-widgets/base",
            "overflow": null,
            "_model_module_version": "1.2.0",
            "_view_count": null,
            "flex_flow": null,
            "width": null,
            "min_width": null,
            "border": null,
            "align_items": null,
            "bottom": null,
            "_model_module": "@jupyter-widgets/base",
            "top": null,
            "grid_column": null,
            "overflow_y": null,
            "overflow_x": null,
            "grid_auto_flow": null,
            "grid_area": null,
            "grid_template_columns": null,
            "flex": null,
            "_model_name": "LayoutModel",
            "justify_items": null,
            "grid_row": null,
            "max_height": null,
            "align_content": null,
            "visibility": null,
            "align_self": null,
            "height": null,
            "min_height": null,
            "padding": null,
            "grid_auto_rows": null,
            "grid_gap": null,
            "max_width": null,
            "order": null,
            "_view_module_version": "1.2.0",
            "grid_template_areas": null,
            "object_position": null,
            "object_fit": null,
            "grid_auto_columns": null,
            "margin": null,
            "display": null,
            "left": null
          }
        },
        "56c6ae6b97f5475c831c294311b8a729": {
          "model_module": "@jupyter-widgets/controls",
          "model_name": "ProgressStyleModel",
          "model_module_version": "1.5.0",
          "state": {
            "_view_name": "StyleView",
            "_model_name": "ProgressStyleModel",
            "description_width": "",
            "_view_module": "@jupyter-widgets/base",
            "_model_module_version": "1.5.0",
            "_view_count": null,
            "_view_module_version": "1.2.0",
            "bar_color": null,
            "_model_module": "@jupyter-widgets/controls"
          }
        },
        "ecfa17798b6e4a6a80d740e9868f22b3": {
          "model_module": "@jupyter-widgets/base",
          "model_name": "LayoutModel",
          "model_module_version": "1.2.0",
          "state": {
            "_view_name": "LayoutView",
            "grid_template_rows": null,
            "right": null,
            "justify_content": null,
            "_view_module": "@jupyter-widgets/base",
            "overflow": null,
            "_model_module_version": "1.2.0",
            "_view_count": null,
            "flex_flow": null,
            "width": null,
            "min_width": null,
            "border": null,
            "align_items": null,
            "bottom": null,
            "_model_module": "@jupyter-widgets/base",
            "top": null,
            "grid_column": null,
            "overflow_y": null,
            "overflow_x": null,
            "grid_auto_flow": null,
            "grid_area": null,
            "grid_template_columns": null,
            "flex": null,
            "_model_name": "LayoutModel",
            "justify_items": null,
            "grid_row": null,
            "max_height": null,
            "align_content": null,
            "visibility": null,
            "align_self": null,
            "height": null,
            "min_height": null,
            "padding": null,
            "grid_auto_rows": null,
            "grid_gap": null,
            "max_width": null,
            "order": null,
            "_view_module_version": "1.2.0",
            "grid_template_areas": null,
            "object_position": null,
            "object_fit": null,
            "grid_auto_columns": null,
            "margin": null,
            "display": null,
            "left": null
          }
        },
        "59c3b62188f54d7cbf8ffc44acb80228": {
          "model_module": "@jupyter-widgets/controls",
          "model_name": "DescriptionStyleModel",
          "model_module_version": "1.5.0",
          "state": {
            "_view_name": "StyleView",
            "_model_name": "DescriptionStyleModel",
            "description_width": "",
            "_view_module": "@jupyter-widgets/base",
            "_model_module_version": "1.5.0",
            "_view_count": null,
            "_view_module_version": "1.2.0",
            "_model_module": "@jupyter-widgets/controls"
          }
        },
        "d71fa8f3b93441c9a2a5f3869aa8de37": {
          "model_module": "@jupyter-widgets/base",
          "model_name": "LayoutModel",
          "model_module_version": "1.2.0",
          "state": {
            "_view_name": "LayoutView",
            "grid_template_rows": null,
            "right": null,
            "justify_content": null,
            "_view_module": "@jupyter-widgets/base",
            "overflow": null,
            "_model_module_version": "1.2.0",
            "_view_count": null,
            "flex_flow": null,
            "width": null,
            "min_width": null,
            "border": null,
            "align_items": null,
            "bottom": null,
            "_model_module": "@jupyter-widgets/base",
            "top": null,
            "grid_column": null,
            "overflow_y": null,
            "overflow_x": null,
            "grid_auto_flow": null,
            "grid_area": null,
            "grid_template_columns": null,
            "flex": null,
            "_model_name": "LayoutModel",
            "justify_items": null,
            "grid_row": null,
            "max_height": null,
            "align_content": null,
            "visibility": null,
            "align_self": null,
            "height": null,
            "min_height": null,
            "padding": null,
            "grid_auto_rows": null,
            "grid_gap": null,
            "max_width": null,
            "order": null,
            "_view_module_version": "1.2.0",
            "grid_template_areas": null,
            "object_position": null,
            "object_fit": null,
            "grid_auto_columns": null,
            "margin": null,
            "display": null,
            "left": null
          }
        }
      }
    }
  },
  "cells": [
    {
      "cell_type": "markdown",
      "metadata": {
        "id": "view-in-github",
        "colab_type": "text"
      },
      "source": [
        "<a href=\"https://colab.research.google.com/github/es2mac/DrillTraining/blob/main/DrillAI_Training.ipynb\" target=\"_parent\"><img src=\"https://colab.research.google.com/assets/colab-badge.svg\" alt=\"Open In Colab\"/></a>"
      ]
    },
    {
      "cell_type": "markdown",
      "metadata": {
        "id": "bSvtY2mOY3LD"
      },
      "source": [
        "# DrillAI Training"
      ]
    },
    {
      "cell_type": "markdown",
      "metadata": {
        "id": "Inhs_CxnZL8v"
      },
      "source": [
        "## Preparation"
      ]
    },
    {
      "cell_type": "markdown",
      "metadata": {
        "id": "xC0gNwVDBZJR"
      },
      "source": [
        "### Imports"
      ]
    },
    {
      "cell_type": "code",
      "metadata": {
        "id": "SVvTpdUGXAsp"
      },
      "source": [
        "# ...if exporting CoreML model\n",
        "# !pip install coremltools\n",
        "# !pip install coremltools==5.0b4\n",
        "\n",
        "# import coremltools as ct"
      ],
      "execution_count": 1,
      "outputs": []
    },
    {
      "cell_type": "code",
      "metadata": {
        "id": "AZtrm_sO4xM7"
      },
      "source": [
        "import os\n",
        "import numpy as np\n",
        "import random\n",
        "import matplotlib.pyplot as plt\n",
        "from statistics import median\n",
        "import torch\n",
        "from torch import nn\n",
        "import torch.nn.functional as F\n",
        "from torch.utils.data import Dataset, DataLoader, random_split\n",
        "import json\n",
        "# from google.protobuf import text_format # use as: text_format.MessageToString(...)"
      ],
      "execution_count": 2,
      "outputs": []
    },
    {
      "cell_type": "code",
      "metadata": {
        "id": "CW6O_NPX01-7",
        "colab": {
          "base_uri": "https://localhost:8080/"
        },
        "outputId": "bd66f412-78bd-4482-b6bf-57f3ee21ee00"
      },
      "source": [
        "# Download the GameRecord protobuf definition from GitHub\n",
        "!wget -nc https://raw.githubusercontent.com/es2mac/DrillAI/main/Sources/DrillAI/MLModel/GameRecord/DrillGameRecord_pb2.py\n",
        "\n",
        "from DrillGameRecord_pb2 import GameRecord"
      ],
      "execution_count": 3,
      "outputs": [
        {
          "output_type": "stream",
          "name": "stdout",
          "text": [
            "--2021-09-10 14:20:29--  https://raw.githubusercontent.com/es2mac/DrillAI/main/Sources/DrillAI/MLModel/GameRecord/DrillGameRecord_pb2.py\n",
            "Resolving raw.githubusercontent.com (raw.githubusercontent.com)... 185.199.108.133, 185.199.109.133, 185.199.110.133, ...\n",
            "Connecting to raw.githubusercontent.com (raw.githubusercontent.com)|185.199.108.133|:443... connected.\n",
            "HTTP request sent, awaiting response... 200 OK\n",
            "Length: 6647 (6.5K) [text/plain]\n",
            "Saving to: ‘DrillGameRecord_pb2.py’\n",
            "\n",
            "\rDrillGameRecord_pb2   0%[                    ]       0  --.-KB/s               \rDrillGameRecord_pb2 100%[===================>]   6.49K  --.-KB/s    in 0s      \n",
            "\n",
            "2021-09-10 14:20:29 (31.0 MB/s) - ‘DrillGameRecord_pb2.py’ saved [6647/6647]\n",
            "\n"
          ]
        }
      ]
    },
    {
      "cell_type": "markdown",
      "metadata": {
        "id": "itAXq2_-BdVS"
      },
      "source": [
        "### Load raw data"
      ]
    },
    {
      "cell_type": "code",
      "metadata": {
        "colab": {
          "base_uri": "https://localhost:8080/"
        },
        "id": "RIwpx82Qk-1p",
        "outputId": "1a7d7b47-e9ba-4bd7-f52d-9a7861b3dffd"
      },
      "source": [
        "# Link to Google Drive for records (manual upload)\n",
        "from google.colab import drive\n",
        "drive.mount('/content/drive', force_remount=True)"
      ],
      "execution_count": 4,
      "outputs": [
        {
          "output_type": "stream",
          "name": "stdout",
          "text": [
            "Mounted at /content/drive\n"
          ]
        }
      ]
    },
    {
      "cell_type": "code",
      "metadata": {
        "colab": {
          "base_uri": "https://localhost:8080/"
        },
        "id": "fjFxRAKEQgK1",
        "outputId": "d89ec9fa-424b-4be6-8c8d-e745e26aab08"
      },
      "source": [
        "workingDirectory = \"/content/drive/MyDrive/DrillAI/\"\n",
        "zipFileName = \"records_gen1.zip\"\n",
        "recordsDirectoryName = \"records\"\n",
        "\n",
        "!ls {workingDirectory}"
      ],
      "execution_count": 5,
      "outputs": [
        {
          "output_type": "stream",
          "name": "stdout",
          "text": [
            "0909_model_badly_saved_as_functions  drillModel_010.pth  records_gen1.zip\n",
            "0909_model_value_loss_blew_up\t     drillModel_040.pth  trainingSummaries.json\n"
          ]
        }
      ]
    },
    {
      "cell_type": "code",
      "metadata": {
        "id": "zyAP0qcV24uw"
      },
      "source": [
        "# Unzip records to local directory\n",
        "\n",
        "!unzip -n {workingDirectory + zipFileName} -d ."
      ],
      "execution_count": null,
      "outputs": []
    },
    {
      "cell_type": "code",
      "metadata": {
        "id": "c_x7TRH24H2l"
      },
      "source": [
        "# Read and aggregate steps from all the games\n",
        "allSteps = []\n",
        "\n",
        "recordsDirectory = os.fsdecode(recordsDirectoryName)\n",
        "gameRecord = GameRecord()\n",
        "for file in os.listdir(recordsDirectory):\n",
        "    data = open(f\"{recordsDirectory}/{file}\", \"rb\").read()\n",
        "    gameRecord.ParseFromString(data)\n",
        "    allSteps += gameRecord.steps"
      ],
      "execution_count": 7,
      "outputs": []
    },
    {
      "cell_type": "code",
      "metadata": {
        "colab": {
          "base_uri": "https://localhost:8080/",
          "height": 299
        },
        "id": "IUJ5h7-p4MHz",
        "outputId": "1435a33d-3137-4bba-9fe6-45cea21389f7"
      },
      "source": [
        "# Inspect data\n",
        "def inspectData(allSteps):\n",
        "    print(\"Total steps:\", len(allSteps))\n",
        "    allValues = [step.value for step in allSteps]\n",
        "    plt.hist(allValues, bins=14)\n",
        "\n",
        "    print(\"Median value:\", median(allValues)) # 0.2857 = 4/14, 0.4286 = 6/14\n",
        "\n",
        "inspectData(allSteps)"
      ],
      "execution_count": 8,
      "outputs": [
        {
          "output_type": "stream",
          "name": "stdout",
          "text": [
            "Total steps: 46711\n",
            "Median value: 0.4285714328289032\n"
          ]
        },
        {
          "output_type": "display_data",
          "data": {
            "image/png": "[encoded data removed]",
            "text/plain": [
              "<Figure size 432x288 with 1 Axes>"
            ]
          },
          "metadata": {
            "needs_background": "light"
          }
        }
      ]
    },
    {
      "cell_type": "markdown",
      "metadata": {
        "id": "hfKA_-L7p_B2"
      },
      "source": [
        "## Define Models"
      ]
    },
    {
      "cell_type": "code",
      "metadata": {
        "id": "0cB9tnhMBnKt"
      },
      "source": [
        "# Define a slice of convolution + batch norm\n",
        "class ConvBN(nn.Module):\n",
        "    \"\"\"\n",
        "    Convolution + batch norm.\n",
        "    Note that CoreML conversion can't actually take same padding atm.\n",
        "    Workaround:  Pass in an actual int.\n",
        "    \"\"\"\n",
        "    def __init__(self, inChannels, outChannels, kernelSize, padding=\"same\"):\n",
        "        super(ConvBN, self).__init__()\n",
        "        self.conv = nn.Conv2d(in_channels=inChannels,\n",
        "                              out_channels=outChannels,\n",
        "                              kernel_size=kernelSize,\n",
        "                              padding=padding)\n",
        "        self.norm = nn.BatchNorm2d(num_features=outChannels)\n",
        "\n",
        "    def forward(self, x):\n",
        "        return self.norm(self.conv(x))\n",
        "\n",
        "\n",
        "# Define a residual block that is just two ConvBNs\n",
        "class ResidualBlock(nn.Module):\n",
        "    def __init__(self, featureCount, kernelSize):\n",
        "        super(ResidualBlock, self).__init__()\n",
        "        padding = (kernelSize - 1) // 2\n",
        "        self.layer1 = ConvBN(featureCount, featureCount, kernelSize, padding)\n",
        "        self.layer2 = ConvBN(featureCount, featureCount, kernelSize, padding)\n",
        "\n",
        "    def forward(self, x):\n",
        "        return self.layer2(self.layer1(x))"
      ],
      "execution_count": 9,
      "outputs": []
    },
    {
      "cell_type": "code",
      "metadata": {
        "id": "8mFq0GCxvsYt"
      },
      "source": [
        "class DrillModel(nn.Module):\n",
        "    def __init__(self, blockCount):\n",
        "        super(DrillModel, self).__init__()\n",
        "        kernelSize = 3\n",
        "        padding = 1\n",
        "        featureCount = 43\n",
        "        convWidth = 32\n",
        "        valueDenseWidth = 32\n",
        "\n",
        "        self.initialConv = ConvBN(featureCount, convWidth, kernelSize, padding)\n",
        "        self.residualBlocks = nn.ModuleList([\n",
        "            ResidualBlock(convWidth, kernelSize)\n",
        "            for _ in range(blockCount)\n",
        "        ])\n",
        "\n",
        "        self.policyConv1 = ConvBN(convWidth, convWidth, kernelSize, padding)\n",
        "        self.policyConv2 = ConvBN(convWidth, 8, kernelSize, padding)\n",
        "\n",
        "        self.valueConv = ConvBN(convWidth, 1, 1, 0)\n",
        "        self.flatten = nn.Flatten()\n",
        "        self.valueLinear1 = nn.Linear(10 * 20, valueDenseWidth)\n",
        "        self.valueLinear2 = nn.Linear(valueDenseWidth, 1)\n",
        "\n",
        "    def forward(self, x):\n",
        "        common = F.relu(self.initialConv(x))\n",
        "        for block in self.residualBlocks:\n",
        "            common = block(common)\n",
        "        \n",
        "        # policy head\n",
        "        logits = F.relu(self.policyConv1(common))\n",
        "        logits = self.policyConv2(logits)\n",
        "\n",
        "        # value head\n",
        "        value = F.relu(self.valueConv(common))\n",
        "        value = self.flatten(value)\n",
        "        value = self.valueLinear1(value)\n",
        "        value = torch.sigmoid(self.valueLinear2(value))\n",
        "\n",
        "        return (value, logits)"
      ],
      "execution_count": 10,
      "outputs": []
    },
    {
      "cell_type": "markdown",
      "metadata": {
        "id": "0F1afBfNb9db"
      },
      "source": [
        "## Data Parsing and Augmentation"
      ]
    },
    {
      "cell_type": "markdown",
      "metadata": {
        "id": "gHzj2F9nPITg"
      },
      "source": [
        "To go between model trained on CPU/GPU to the other:\n",
        "[Saving and loading models across devices in pytorch](https://pytorch.org/tutorials/recipes/recipes/save_load_across_devices.html)"
      ]
    },
    {
      "cell_type": "code",
      "metadata": {
        "colab": {
          "base_uri": "https://localhost:8080/"
        },
        "id": "c4xmw2mDtSj4",
        "outputId": "8502f792-0466-428b-8dd6-4e84130668a8"
      },
      "source": [
        "# Get cpu or gpu device for training.\n",
        "device = \"cuda\" if torch.cuda.is_available() else \"cpu\"\n",
        "print(\"Using {} device\".format(device))"
      ],
      "execution_count": 11,
      "outputs": [
        {
          "output_type": "stream",
          "name": "stdout",
          "text": [
            "Using cpu device\n"
          ]
        }
      ]
    },
    {
      "cell_type": "code",
      "metadata": {
        "id": "shCwHU9c5pci"
      },
      "source": [
        "# I, J, L, O, S, T, Z\n",
        "# 0, 1, 2, 3, 4, 5, 6\n",
        "flippedTetromino = [0, 2, 1, 3, 6, 5, 4]\n",
        "# up, right, down, left\n",
        "flippedOrientation = [0, 3, 2, 1]\n",
        "\n",
        "class DataEntry:\n",
        "    \"\"\"\n",
        "    A specification of what a data entry is, that can be unpacked into\n",
        "    appropriate sample & label.\n",
        "    \"\"\"\n",
        "    def __init__(self, step, addLines=0, removeLines=0, flip=False):\n",
        "        self.step = step\n",
        "        self.addLines = addLines\n",
        "        self.removeLines = removeLines\n",
        "        self.flip = flip\n",
        "        # self.previewCount = previewCount\n",
        "\n",
        "    def __repr__(self):\n",
        "        return f\"{len(self.step.fieldCells)//10} lines, value {self.step.value:.3f}, +{self.addLines} -{self.removeLines} {'flipped' if self.flip else ''}\"\n",
        "\n",
        "    def parsedSample(self) -> np.ndarray:\n",
        "        \"\"\"\n",
        "        Construct the sample input from a step.  Returns an ndarray of shape\n",
        "        43 x 20 x 10\n",
        "        The 43 layers are: the field, and 6 play pieces each with 7 cases.\n",
        "        \"\"\"\n",
        "        field = np.array(self.step.fieldCells).astype('float32')\n",
        "        tetrominos = self.step.tetrominos[:6]\n",
        "\n",
        "        # Add solid lines, though not legal game-wise\n",
        "        if self.addLines:\n",
        "            field = np.pad(field, (self.addLines * 10, 0), constant_values=1)\n",
        "\n",
        "        # Remove lines\n",
        "        if self.removeLines:\n",
        "            field = np.array(field[self.removeLines * 10:])\n",
        "\n",
        "        ## Flip\n",
        "        if self.flip:\n",
        "            field.shape = (len(field) // 10, 10)\n",
        "            field = np.flip(field, axis=1).flatten()\n",
        "            tetrominos = [flippedTetromino[t] for t in tetrominos]\n",
        "\n",
        "        # Assemble\n",
        "        field.resize(1 + 6 * 7, 20, 10, refcheck=False)\n",
        "        for (index, value) in enumerate(tetrominos):\n",
        "            field[1 + index * 7 + value] = 1\n",
        "        return field\n",
        "\n",
        "    def parsedLabel(self) -> (float, int):\n",
        "        \"\"\"\n",
        "        Construct the output labels from a step, i.e. value and best action.\n",
        "        Note that the best action is to be compared (cross entropy) with a\n",
        "        prior, which is of shape (4 + 4) x 20 x 10, where the first dimension\n",
        "        represents the 4 rotations of each of the two pieces in play.  The best\n",
        "        action would be its linear index in the prior.\n",
        "        \"\"\"\n",
        "        value = np.float32(self.step.value)\n",
        "        bestAction = self.step.actions[0]\n",
        "\n",
        "        bestAction += 10 * self.addLines\n",
        "        bestAction -= 10 * self.removeLines\n",
        "\n",
        "        if self.flip:   # oops... need to unpack and put back together\n",
        "            pieceOrder = bestAction // 800\n",
        "            orientation = (bestAction % 800) // 200\n",
        "            y = (bestAction % 200) // 10\n",
        "            x = bestAction % 10\n",
        "\n",
        "            orientation = flippedOrientation[orientation]\n",
        "            x = 9 - x\n",
        "            bestAction = 800 * pieceOrder + 200 * orientation + y * 10 + x\n",
        "\n",
        "        return value, bestAction"
      ],
      "execution_count": 12,
      "outputs": []
    },
    {
      "cell_type": "code",
      "metadata": {
        "id": "miWgTvU3TNOn"
      },
      "source": [
        "def augmentedEntryVariants(step) -> [DataEntry]:\n",
        "    \"\"\"\n",
        "    Decide and construct variant information for a step.  Possible variant\n",
        "    augmentations are: reducing 1 or 2 bottom lines, adding 1 or 2 solid lines,\n",
        "    and horizontal flip.  Each subject to certain conditions.\n",
        "    \"\"\"\n",
        "    heightVariants = [(0, 0)]   # (add, remove)\n",
        "    lineCount = len(step.fieldCells) // 10\n",
        "\n",
        "    # print(lineCount)\n",
        "    # print(step.fieldCells[70:80].count(True) == 9)\n",
        "    # print(step.value)\n",
        "\n",
        "    if lineCount >= 8:\n",
        "        # at least 7 garbages, not all cleared: remove 1 line\n",
        "        if (step.fieldCells[60:70].count(True) == 9 and\n",
        "            step.value < 7/14):\n",
        "            heightVariants.append((0, 1))\n",
        "        # 8 garbages, not all cleared\n",
        "        if (step.fieldCells[70:80].count(True) == 9 and\n",
        "            step.value < 8/14):\n",
        "            # remove 2 lines\n",
        "            if step.value < 7/14:\n",
        "                heightVariants.append((0, 2))\n",
        "            # add 1~2 lines (under some arbitrary \"too high\" height)\n",
        "            if lineCount < 16:\n",
        "                heightVariants.append((1, 0))\n",
        "                heightVariants.append((2, 0))\n",
        "\n",
        "    flipVariants = [False] if 0 in step.tetrominos[:2] else [False, True]\n",
        "\n",
        "    variants = []\n",
        "    for flip in flipVariants:\n",
        "        for addLines, removeLines in heightVariants:\n",
        "            entry = DataEntry(step, addLines=addLines, removeLines=removeLines,\n",
        "                              flip=flip)\n",
        "            variants.append(entry)\n",
        "\n",
        "    # print(heightVariants)\n",
        "    # print(flipVariants)\n",
        "    return variants\n",
        "\n",
        "# augmentedEntryVariants(allSteps[6674])"
      ],
      "execution_count": 13,
      "outputs": []
    },
    {
      "cell_type": "code",
      "metadata": {
        "id": "gsfrbfyzBCt6"
      },
      "source": [
        "# Dataset to wrap the data\n",
        "\n",
        "class DrillDataset(Dataset):\n",
        "    def __init__(self, steps):\n",
        "        entries = []\n",
        "        for step in steps:\n",
        "            entries.extend(augmentedEntryVariants(step))\n",
        "        self.entries = entries\n",
        "\n",
        "    def __len__(self):\n",
        "        return len(self.entries)\n",
        "\n",
        "    def __getitem__(self, index):\n",
        "        entry = self.entries[index]\n",
        "        sample = torch.from_numpy(entry.parsedSample()).to(device)\n",
        "        value, bestAction = entry.parsedLabel()\n",
        "        value = torch.tensor(value, dtype=torch.float32).to(device)\n",
        "        bestAction = torch.tensor(bestAction, dtype=torch.long).to(device)\n",
        "        return sample, (value, bestAction)\n"
      ],
      "execution_count": 14,
      "outputs": []
    },
    {
      "cell_type": "markdown",
      "metadata": {
        "id": "QTQ6lz03TYJT"
      },
      "source": [
        "## Training"
      ]
    },
    {
      "cell_type": "markdown",
      "metadata": {
        "id": "tbawxV5z8l_w"
      },
      "source": [
        "### Create/load model and datasets"
      ]
    },
    {
      "cell_type": "code",
      "metadata": {
        "id": "e_dJ-PgHsDFb"
      },
      "source": [
        "# Initiate model, or load one\n",
        "# TODO: save/load to drive\n",
        "model = DrillModel(blockCount=4).to(device)\n",
        "\n",
        "# torchModelFileName = \"drillModel.pth\"\n",
        "torchModelFileName = \"0909_model_badly_saved_as_functions/drillModel_040.pth\"\n",
        "# model.load_state_dict(torch.load(workingDirectory + torchModelFileName))\n",
        "model.load_state_dict(torch.load(workingDirectory + torchModelFileName, map_location=torch.device('cpu'))())\n",
        "# model.train()\n",
        "model.eval()\n",
        "\n",
        "def saveTorchModel():\n",
        "    torch.save(model.state_dict(), workingDirectory + torchModelFileName)"
      ],
      "execution_count": 15,
      "outputs": []
    },
    {
      "cell_type": "code",
      "metadata": {
        "id": "OjvzddBIFw_o"
      },
      "source": [
        "# Test running a single sample through the model\n",
        "def softmax(x):\n",
        "    ex = np.exp(x - np.max(x))\n",
        "    return ex / ex.sum()\n",
        "\n",
        "def inspectRandomPrediction():\n",
        "    randomStep = random.choice(allSteps)\n",
        "    entry = DataEntry(randomStep, addLines=0, removeLines=0, flip=False)\n",
        "    sample = torch.from_numpy(entry.parsedSample()).unsqueeze(0).to(device)\n",
        "    label = entry.parsedLabel()\n",
        "    \n",
        "    value, policies = model(sample)\n",
        "    value = value.item()\n",
        "    policies = policies.detach().numpy().flatten()[randomStep.actions]\n",
        "    policies /= 2 # arbitrary: this visually gives better fit\n",
        "    policies = softmax(policies)\n",
        "    \n",
        "    plt.bar([\"value truth\", \"value prediction\"], [randomStep.value, value])\n",
        "    plt.show()\n",
        "    \n",
        "    plt.plot(randomStep.priors,label=\"priors truth\")\n",
        "    plt.plot(policies,label=\"policy prediction\")\n",
        "    plt.legend()\n",
        "    plt.show()"
      ],
      "execution_count": 74,
      "outputs": []
    },
    {
      "cell_type": "code",
      "metadata": {
        "id": "1SChghmSp26A",
        "colab": {
          "base_uri": "https://localhost:8080/",
          "height": 513
        },
        "outputId": "3c4df8bc-f6f4-46d6-9f0d-d338f02ce8fb"
      },
      "source": [
        "inspectRandomPrediction()"
      ],
      "execution_count": 90,
      "outputs": [
        {
          "output_type": "display_data",
          "data": {
            "image/png": "[encoded data removed]",
            "text/plain": [
              "<Figure size 432x288 with 1 Axes>"
            ]
          },
          "metadata": {
            "needs_background": "light"
          }
        },
        {
          "output_type": "display_data",
          "data": {
            "image/png": "[encoded data removed]",
            "text/plain": [
              "<Figure size 432x288 with 1 Axes>"
            ]
          },
          "metadata": {
            "needs_background": "light"
          }
        }
      ]
    },
    {
      "cell_type": "code",
      "metadata": {
        "id": "xFF1J-t7pAtz",
        "colab": {
          "base_uri": "https://localhost:8080/"
        },
        "outputId": "c944831b-dd43-4700-a43d-bbcd028ffc8c"
      },
      "source": [
        "# Create dataset and split into train & test data loaders\n",
        "\n",
        "batchSize = 64\n",
        "allDataset = DrillDataset(allSteps)\n",
        "\n",
        "trainSize = int(len(allDataset) * 0.9)\n",
        "testSize = len(allDataset) - trainSize\n",
        "\n",
        "trainDataset, testDataset = random_split(allDataset, [trainSize, testSize])\n",
        "trainDataLoader = DataLoader(trainDataset, batch_size=batchSize, shuffle=True)\n",
        "testDataLoader = DataLoader(testDataset, batch_size=batchSize, shuffle=True)\n",
        "\n",
        "print(len(trainDataset))\n",
        "print(len(testDataset))"
      ],
      "execution_count": null,
      "outputs": [
        {
          "output_type": "stream",
          "name": "stdout",
          "text": [
            "203202\n",
            "22579\n"
          ]
        }
      ]
    },
    {
      "cell_type": "markdown",
      "metadata": {
        "id": "WDLkEe9NA0wu"
      },
      "source": [
        "### Define loss function and optimizer"
      ]
    },
    {
      "cell_type": "code",
      "metadata": {
        "id": "6G2zpppTOpHl"
      },
      "source": [
        "# Define the loss function\n",
        "# which will be the sum of these two\n",
        "# (todo: think about weighting and alternatives)\n",
        "policyCriterion = nn.CrossEntropyLoss()\n",
        "valueCriterion = nn.MSELoss()\n",
        "\n",
        "optimizer = torch.optim.SGD(model.parameters(),\n",
        "                            lr=0.01,\n",
        "                            momentum=0.9,\n",
        "                            weight_decay=1e-4)"
      ],
      "execution_count": null,
      "outputs": []
    },
    {
      "cell_type": "code",
      "metadata": {
        "id": "QTp2DxFhZ5rd",
        "colab": {
          "base_uri": "https://localhost:8080/"
        },
        "outputId": "d059260f-e93c-4231-b6f6-418505910e62"
      },
      "source": [
        "# try the criterions\n",
        "inputs, labels = next(iter(trainDataLoader))\n",
        "# inputs = inputs.to(device)\n",
        "# labels = labels.to(device)\n",
        "values, policies = model(inputs)\n",
        "# valueCriterion(values.squeeze(), labels[0])\n",
        "# policyCriterion(policies.flatten(1), torch.argmax(labels[1].flatten(1), 1))\n",
        "policyCriterion(policies.flatten(1), labels[1])\n",
        "# labels[1].squeeze().shape\n",
        "# policies.squeeze().squeeze().shape\n",
        "# torch.argmax(labels[1].flatten(1), 1)\n",
        "# labels[0], values\n"
      ],
      "execution_count": null,
      "outputs": [
        {
          "output_type": "execute_result",
          "data": {
            "text/plain": [
              "tensor(0.8413, device='cuda:0', grad_fn=<NllLossBackward>)"
            ]
          },
          "metadata": {},
          "execution_count": 23
        }
      ]
    },
    {
      "cell_type": "markdown",
      "metadata": {
        "id": "IMD2MBSkBFjP"
      },
      "source": [
        "### Create/load epoch summaries"
      ]
    },
    {
      "cell_type": "code",
      "metadata": {
        "id": "XFm69Q8hBuoe"
      },
      "source": [
        "def makeSummary(epoch, trainValueLoss, trainPolicyLoss, testValueLoss, testPolicyLoss) -> dict :\n",
        "    return {\n",
        "        \"epoch\": epoch,\n",
        "        \"trainValueLoss\": trainValueLoss,\n",
        "        \"trainPolicyLoss\": trainPolicyLoss,\n",
        "        \"testValueLoss\": testValueLoss,\n",
        "        \"testPolicyLoss\": testPolicyLoss\n",
        "    }"
      ],
      "execution_count": null,
      "outputs": []
    },
    {
      "cell_type": "code",
      "metadata": {
        "id": "VPcPCVzzX5nm"
      },
      "source": [
        "summaryFilePath = workingDirectory + \"trainingSummaries.json\"\n",
        "\n",
        "summaries = []\n",
        "\n",
        "# summaries.append(makeSummary(epoch=1, trainPolicyLoss=2.2, trainValueLoss=0.25, testPolicyLoss=3.2, testValueLoss=0.35))\n",
        "# summaries.append(makeSummary(epoch=2, trainPolicyLoss=2.1, trainValueLoss=0.24, testPolicyLoss=3.1, testValueLoss=0.33))\n",
        "# summaries.append(makeSummary(epoch=3, trainPolicyLoss=2.0, trainValueLoss=0.23, testPolicyLoss=3.0, testValueLoss=0.31))\n",
        "# print(json.dumps(summaries, indent=4))\n",
        "\n",
        "def loadSummaries():\n",
        "    with open(summaryFilePath) as jsonFile:\n",
        "        return json.load(jsonFile)\n",
        "\n",
        "def saveSummaries(summaries):\n",
        "    with open(summaryFilePath, 'w') as outfile:\n",
        "        json.dump(summaries, outfile)\n",
        "\n",
        "\n",
        "# summaries = loadSummaries()\n",
        "# for item in summaries:\n",
        "#     print(item)\n",
        "\n",
        "# saveSummaries(summaries)\n",
        "\n"
      ],
      "execution_count": null,
      "outputs": []
    },
    {
      "cell_type": "markdown",
      "metadata": {
        "id": "dOZP_2_cFA1N"
      },
      "source": [
        "### Training/testing methods"
      ]
    },
    {
      "cell_type": "code",
      "metadata": {
        "id": "17UFGbLS-SVq"
      },
      "source": [
        "def performTraining(printStats=True) -> (float, float):\n",
        "    \"\"\"\n",
        "    Do one epoch of training.  Returns the two training losses,\n",
        "    i.e. value loss & policy loss.\n",
        "    \"\"\"\n",
        "    model.train()\n",
        "\n",
        "    totalCount = len(trainDataLoader)\n",
        "    epochValueLoss = 0.0\n",
        "    epochPolicyLoss = 0.0\n",
        "\n",
        "    printFrequency = (totalCount // 1000) * 100\n",
        "    runningValueLoss = 0.0\n",
        "    runningPolicyLoss = 0.0\n",
        "\n",
        "    for i, data in enumerate(trainDataLoader):\n",
        "        inputs, labels = data\n",
        "        optimizer.zero_grad()\n",
        "\n",
        "        values, policies = model(inputs)\n",
        "        valueLoss = valueCriterion(values.squeeze(), labels[0].to(device))\n",
        "        policyLoss = policyCriterion(policies.flatten(1), labels[1])\n",
        "        loss = 50 * valueLoss + policyLoss\n",
        "        loss.backward()\n",
        "        optimizer.step()\n",
        "\n",
        "        epochValueLoss += valueLoss.item()\n",
        "        epochPolicyLoss += policyLoss.item()\n",
        "\n",
        "        # print statistics\n",
        "        if printStats:\n",
        "            runningValueLoss += valueLoss.item()\n",
        "            runningPolicyLoss += policyLoss.item()\n",
        "            if i % printFrequency == printFrequency - 1:    # print every _ mini-batches\n",
        "                print('[%4d] loss: %.5f, %.3f' %\n",
        "                    (i + 1, runningValueLoss / printFrequency,\n",
        "                    runningPolicyLoss / printFrequency))\n",
        "                runningValueLoss = 0.0\n",
        "                runningPolicyLoss = 0.0\n",
        "\n",
        "    return epochValueLoss / totalCount, epochPolicyLoss / totalCount"
      ],
      "execution_count": null,
      "outputs": []
    },
    {
      "cell_type": "code",
      "metadata": {
        "id": "cFXzPJOx9QwC"
      },
      "source": [
        "def performTesting() -> (float, float):\n",
        "    with torch.no_grad():\n",
        "        model.eval()\n",
        "\n",
        "        testingPolicyLoss = 0.0\n",
        "        testingValueLoss = 0.0\n",
        "        totalCount = len(testDataLoader)\n",
        "\n",
        "        for data in testDataLoader:\n",
        "            inputs, labels = data\n",
        "            values, policies = model(inputs)\n",
        "            valueLoss = valueCriterion(values.squeeze(), labels[0].to(device))\n",
        "            policyLoss = policyCriterion(policies.flatten(1), labels[1])\n",
        "            testingValueLoss += valueLoss.item()\n",
        "            testingPolicyLoss += policyLoss.item()\n",
        "\n",
        "    return testingValueLoss / totalCount, testingPolicyLoss / totalCount "
      ],
      "execution_count": null,
      "outputs": []
    },
    {
      "cell_type": "markdown",
      "metadata": {
        "id": "UlolaXQRFTDV"
      },
      "source": [
        "### Run"
      ]
    },
    {
      "cell_type": "code",
      "metadata": {
        "colab": {
          "base_uri": "https://localhost:8080/"
        },
        "id": "3FjEdH8iXhA1",
        "outputId": "3d2a38ec-e863-441c-dda9-d7698d80c753"
      },
      "source": [
        "iterations = 1\n",
        "lastEpoch = summaries[-1][\"epoch\"] if summaries else 0\n",
        "for epoch in range(lastEpoch + 1, lastEpoch + 1 + iterations):\n",
        "\n",
        "    print(f\"*** Epoch {epoch} ***\")\n",
        "\n",
        "    # trainValueLoss, trainPolicyLoss = performTraining(printStats=True)\n",
        "\n",
        "    # print(f\"Epoch {epoch} in {len(trainDataLoader)} minibatches:\")\n",
        "    # print(f\"Average train value loss: {trainValueLoss:.5f}\")\n",
        "    # print(f\"Average train policy loss: {trainPolicyLoss:.3f}\")\n",
        "    # print()\n",
        "\n",
        "    testValueLoss, testPolicyLoss = performTesting()\n",
        "\n",
        "    print(f\"Testing in {len(testDataLoader)} minibatches:\")\n",
        "    print(f\"Average test value loss: {testValueLoss:.5f}\")\n",
        "    print(f\"Average test policy loss: {testPolicyLoss:.3f}\")\n",
        "    print(\"\\n\\n\")\n",
        "\n",
        "    # summaries.append(makeSummary(epoch=epoch,\n",
        "    #                              trainValueLoss=trainValueLoss,\n",
        "    #                              trainPolicyLoss=trainPolicyLoss,\n",
        "    #                              testValueLoss=testValueLoss,\n",
        "    #                              testPolicyLoss=testPolicyLoss))\n",
        "\n",
        "    # saveSummaries(summaries)\n",
        "    # saveTorchModel()\n",
        "\n",
        "print('Finished Training')"
      ],
      "execution_count": null,
      "outputs": [
        {
          "output_type": "stream",
          "name": "stdout",
          "text": [
            "*** Epoch 1 ***\n",
            "Testing in 353 minibatches:\n",
            "Average test value loss: 0.01530\n",
            "Average test policy loss: 1.015\n",
            "\n",
            "\n",
            "\n",
            "Finished Training\n"
          ]
        }
      ]
    },
    {
      "cell_type": "code",
      "metadata": {
        "colab": {
          "base_uri": "https://localhost:8080/"
        },
        "id": "-43GoghlJvd2",
        "outputId": "2a91c8c8-66bf-4280-df3c-35d3dd490d08"
      },
      "source": [
        "print(len(summaries))\n",
        "# summaries #[-1]"
      ],
      "execution_count": null,
      "outputs": [
        {
          "output_type": "stream",
          "name": "stdout",
          "text": [
            "30\n"
          ]
        }
      ]
    },
    {
      "cell_type": "code",
      "metadata": {
        "colab": {
          "base_uri": "https://localhost:8080/",
          "height": 683
        },
        "id": "HC4ZQeSMtxce",
        "outputId": "ab78b613-7270-4826-bf67-c5f89f21c840"
      },
      "source": [
        "trainValueLosses = [item[\"trainValueLoss\"] for item in summaries]\n",
        "trainPolicyLosses = [item[\"trainPolicyLoss\"] for item in summaries]\n",
        "testValueLosses = [item[\"testValueLoss\"] for item in summaries]\n",
        "testPolicyLosses = [item[\"testPolicyLoss\"] for item in summaries]\n",
        "\n",
        "plt.figure(figsize=(10,5))\n",
        "plt.title(\"Value Training and Validation Loss\")\n",
        "plt.plot(trainValueLosses,label=\"value train\")\n",
        "plt.plot(testValueLosses,label=\"value test\")\n",
        "plt.xlabel(\"Iterations\")\n",
        "plt.ylabel(\"Loss\")\n",
        "plt.legend()\n",
        "plt.show()\n",
        "\n",
        "plt.figure(figsize=(10,5))\n",
        "plt.title(\"Policy Training and Validation Loss\")\n",
        "plt.plot(trainPolicyLosses,label=\"policy train\")\n",
        "plt.plot(testPolicyLosses,label=\"policy test\")\n",
        "plt.xlabel(\"Iterations\")\n",
        "plt.ylabel(\"Loss\")\n",
        "plt.legend()\n",
        "plt.show()"
      ],
      "execution_count": null,
      "outputs": [
        {
          "output_type": "display_data",
          "data": {
            "image/png": "[encoded data removed]",
            "text/plain": [
              "<Figure size 720x360 with 1 Axes>"
            ]
          },
          "metadata": {
            "needs_background": "light"
          }
        },
        {
          "output_type": "display_data",
          "data": {
            "image/png": "[encoded data removed]",
            "text/plain": [
              "<Figure size 720x360 with 1 Axes>"
            ]
          },
          "metadata": {
            "needs_background": "light"
          }
        }
      ]
    },
    {
      "cell_type": "markdown",
      "metadata": {
        "id": "BbPkOoyd00qI"
      },
      "source": [
        "### TODOs\n",
        "\n",
        "- Loss visualization\n",
        "    - https://pytorch.org/tutorials/intermediate/tensorboard_tutorial.html\n",
        "    - https://colab.research.google.com/github/pytorch/tutorials/blob/gh-pages/_downloads/tensorboard_with_pytorch.ipynb\n",
        "    - https://colab.research.google.com/github/tensorflow/tensorboard/blob/master/docs/tensorboard_in_notebooks.ipynb\n",
        "- See if we get to a point where training loss is decreasing but validation loss doesn't\n",
        "    - Can I overfit?\n",
        "- Showing some sample outputs\n",
        "- Automatic saving for long training\n",
        "    - model\n",
        "        - https://stackoverflow.com/questions/10607688/how-to-create-a-file-name-with-the-current-date-time-in-python\n",
        "    - training and testing accuracies\n",
        "\n",
        "- In the future, might simplify the saved game records by tossing the full search result priors -- I didn't realize in training only the top result is considered.  This might make the record files drastically smaller."
      ]
    },
    {
      "cell_type": "markdown",
      "metadata": {
        "id": "OttjrsMovRAb"
      },
      "source": [
        "## Save training progress"
      ]
    },
    {
      "cell_type": "markdown",
      "metadata": {
        "id": "7XzbHZVm4jX1"
      },
      "source": [
        "## Export to CoreML\n",
        "\n",
        "- Need: metadata descriptions for the model (esp. want proper names for policy and value in the output names)\n"
      ]
    },
    {
      "cell_type": "code",
      "metadata": {
        "id": "azmQpEPCXbO0",
        "colab": {
          "base_uri": "https://localhost:8080/"
        },
        "outputId": "c67cef68-db70-4fb1-9c1d-f0177a6104bb"
      },
      "source": [
        "# model = DrillModel(4)\n",
        "\n",
        "\n",
        "inputs, labels = next(iter(trainDataLoader))\n",
        "# inputs = inputs.to(device)\n",
        "# labels = labels.to(device)\n",
        "values, policies = model(inputs)\n",
        "\n",
        "model.eval()\n",
        "# sample = torch.from_numpy(sampleFromStep(allSteps[0])).unsqueeze(0)\n",
        "sample = next(iter(trainDataLoader))[0][0:1]\n",
        "\n",
        "tracedModel = torch.jit.trace(model, sample)\n",
        "mlmodel = ct.convert(\n",
        "    tracedModel,\n",
        "    inputs=[ct.TensorType(name=\"input\", shape=sample.shape)]\n",
        "    # convert_to=\"mlprogram\"\n",
        ")\n",
        "mlmodel"
      ],
      "execution_count": null,
      "outputs": [
        {
          "output_type": "stream",
          "name": "stderr",
          "text": [
            "WARNING:root:Tuple detected at graph output. This will be flattened in the converted model.\n",
            "Converting Frontend ==> MIL Ops:  98%|█████████▊| 128/130 [00:00<00:00, 2661.51 ops/s]\n",
            "Running MIL Common passes: 100%|██████████| 31/31 [00:00<00:00, 493.65 passes/s]\n",
            "Running MIL Clean up passes: 100%|██████████| 8/8 [00:00<00:00, 356.65 passes/s]\n",
            "Translating MIL ==> NeuralNetwork Ops: 100%|██████████| 104/104 [00:00<00:00, 4033.10 ops/s]\n"
          ]
        },
        {
          "output_type": "execute_result",
          "data": {
            "text/plain": [
              "input {\n",
              "  name: \"input\"\n",
              "  type {\n",
              "    multiArrayType {\n",
              "      shape: 1\n",
              "      shape: 43\n",
              "      shape: 20\n",
              "      shape: 10\n",
              "      dataType: FLOAT32\n",
              "    }\n",
              "  }\n",
              "}\n",
              "output {\n",
              "  name: \"205\"\n",
              "  type {\n",
              "    multiArrayType {\n",
              "      dataType: FLOAT32\n",
              "    }\n",
              "  }\n",
              "}\n",
              "output {\n",
              "  name: \"186\"\n",
              "  type {\n",
              "    multiArrayType {\n",
              "      dataType: FLOAT32\n",
              "    }\n",
              "  }\n",
              "}\n",
              "metadata {\n",
              "  userDefined {\n",
              "    key: \"com.github.apple.coremltools.source\"\n",
              "    value: \"torch==1.9.0+cu102\"\n",
              "  }\n",
              "  userDefined {\n",
              "    key: \"com.github.apple.coremltools.version\"\n",
              "    value: \"5.0b4\"\n",
              "  }\n",
              "}"
            ]
          },
          "metadata": {},
          "execution_count": 31
        }
      ]
    },
    {
      "cell_type": "code",
      "metadata": {
        "id": "USxhxZx0Vwcl"
      },
      "source": [
        "mlmodelFileName = \"DrillModelCoreML.mlmodel\"\n",
        "mlmodel.save(mlmodelFileName)"
      ],
      "execution_count": null,
      "outputs": []
    },
    {
      "cell_type": "code",
      "metadata": {
        "colab": {
          "base_uri": "https://localhost:8080/"
        },
        "id": "vnh8q3gEXXUy",
        "outputId": "26d692ca-f0be-41f7-c8fe-b0ce78b7bbf4"
      },
      "source": [
        "# !zip -r DrillModel {mlmodelFileName}/"
      ],
      "execution_count": null,
      "outputs": [
        {
          "output_type": "stream",
          "text": [
            "  adding: DrillModelCoreML.mlpackage/ (stored 0%)\n",
            "  adding: DrillModelCoreML.mlpackage/Manifest.json (deflated 60%)\n",
            "  adding: DrillModelCoreML.mlpackage/Data/ (stored 0%)\n",
            "  adding: DrillModelCoreML.mlpackage/Data/com.apple.CoreML/ (stored 0%)\n",
            "  adding: DrillModelCoreML.mlpackage/Data/com.apple.CoreML/weights/ (stored 0%)\n",
            "  adding: DrillModelCoreML.mlpackage/Data/com.apple.CoreML/weights/weight.bin (deflated 7%)\n",
            "  adding: DrillModelCoreML.mlpackage/Data/com.apple.CoreML/model.mlmodel (deflated 84%)\n"
          ],
          "name": "stdout"
        }
      ]
    },
    {
      "cell_type": "code",
      "metadata": {
        "id": "IDoQM7WfiuQp"
      },
      "source": [
        "\n",
        "## Debugging\n",
        "\n",
        "\n",
        "# model = TestModel(5, 3, 3, 1)\n",
        "# model = ResidualBlock(5, 3)\n",
        "# model = ConvBN(5, 5, 3, 1)\n",
        "# model = DrillModel(4)\n",
        "exampleInput = torch.rand(1, 5, 20, 10)\n",
        "tracedModel = torch.jit.trace(model, exampleInput)\n",
        "mlmodel = ct.convert(\n",
        "    tracedModel,\n",
        "    inputs=[ct.TensorType(shape=exampleInput.shape)]\n",
        ")\n",
        "mlmodel\n",
        "# model(exampleInput).shape\n",
        "\n"
      ],
      "execution_count": null,
      "outputs": []
    },
    {
      "cell_type": "code",
      "metadata": {
        "colab": {
          "base_uri": "https://localhost:8080/",
          "height": 375
        },
        "id": "bG_o62BPX8RR",
        "outputId": "fc35c92d-b8e4-419e-cce5-92c99b6cac80"
      },
      "source": [
        "mlmodel = ct.convert(\n",
        "    tracedModel,\n",
        "    inputs=[ct.TensorType(shape=sample.shape)])"
      ],
      "execution_count": null,
      "outputs": [
        {
          "output_type": "stream",
          "text": [
            "Converting Frontend ==> MIL Ops:  40%|████      | 4/10 [00:00<00:00, 3056.52 ops/s]\n"
          ],
          "name": "stderr"
        },
        {
          "output_type": "error",
          "ename": "RuntimeError",
          "evalue": "ignored",
          "traceback": [
            "\u001b[0;31m---------------------------------------------------------------------------\u001b[0m",
            "\u001b[0;31mRuntimeError\u001b[0m                              Traceback (most recent call last)",
            "\u001b[0;32m<ipython-input-37-ab5289cd4594>\u001b[0m in \u001b[0;36m<module>\u001b[0;34m()\u001b[0m\n\u001b[1;32m      1\u001b[0m mlmodel = ct.convert(\n\u001b[1;32m      2\u001b[0m     \u001b[0mtracedModel\u001b[0m\u001b[0;34m,\u001b[0m\u001b[0;34m\u001b[0m\u001b[0;34m\u001b[0m\u001b[0m\n\u001b[0;32m----> 3\u001b[0;31m     inputs=[ct.TensorType(shape=sample.shape)])\n\u001b[0m",
            "\u001b[0;32m/usr/local/lib/python3.7/dist-packages/coremltools/converters/_converters_entry.py\u001b[0m in \u001b[0;36mconvert\u001b[0;34m(model, source, inputs, outputs, classifier_config, minimum_deployment_target, convert_to, compute_precision, skip_model_load, compute_units, **kwargs)\u001b[0m\n\u001b[1;32m    310\u001b[0m         \u001b[0mskip_model_load\u001b[0m\u001b[0;34m=\u001b[0m\u001b[0mskip_model_load\u001b[0m\u001b[0;34m,\u001b[0m\u001b[0;34m\u001b[0m\u001b[0;34m\u001b[0m\u001b[0m\n\u001b[1;32m    311\u001b[0m         \u001b[0mcompute_units\u001b[0m\u001b[0;34m=\u001b[0m\u001b[0mcompute_units\u001b[0m\u001b[0;34m,\u001b[0m\u001b[0;34m\u001b[0m\u001b[0;34m\u001b[0m\u001b[0m\n\u001b[0;32m--> 312\u001b[0;31m         \u001b[0;34m**\u001b[0m\u001b[0mkwargs\u001b[0m\u001b[0;34m\u001b[0m\u001b[0;34m\u001b[0m\u001b[0m\n\u001b[0m\u001b[1;32m    313\u001b[0m     )\n\u001b[1;32m    314\u001b[0m \u001b[0;34m\u001b[0m\u001b[0m\n",
            "\u001b[0;32m/usr/local/lib/python3.7/dist-packages/coremltools/converters/mil/converter.py\u001b[0m in \u001b[0;36mmil_convert\u001b[0;34m(model, convert_from, convert_to, compute_units, **kwargs)\u001b[0m\n\u001b[1;32m    173\u001b[0m         \u001b[0mSee\u001b[0m\u001b[0;31m \u001b[0m\u001b[0;31m`\u001b[0m\u001b[0mcoremltools\u001b[0m\u001b[0;34m.\u001b[0m\u001b[0mconverters\u001b[0m\u001b[0;34m.\u001b[0m\u001b[0mconvert\u001b[0m\u001b[0;31m`\u001b[0m\u001b[0;34m\u001b[0m\u001b[0;34m\u001b[0m\u001b[0m\n\u001b[1;32m    174\u001b[0m     \"\"\"\n\u001b[0;32m--> 175\u001b[0;31m     \u001b[0;32mreturn\u001b[0m \u001b[0m_mil_convert\u001b[0m\u001b[0;34m(\u001b[0m\u001b[0mmodel\u001b[0m\u001b[0;34m,\u001b[0m \u001b[0mconvert_from\u001b[0m\u001b[0;34m,\u001b[0m \u001b[0mconvert_to\u001b[0m\u001b[0;34m,\u001b[0m \u001b[0mConverterRegistry\u001b[0m\u001b[0;34m,\u001b[0m \u001b[0mMLModel\u001b[0m\u001b[0;34m,\u001b[0m \u001b[0mcompute_units\u001b[0m\u001b[0;34m,\u001b[0m \u001b[0;34m**\u001b[0m\u001b[0mkwargs\u001b[0m\u001b[0;34m)\u001b[0m\u001b[0;34m\u001b[0m\u001b[0;34m\u001b[0m\u001b[0m\n\u001b[0m\u001b[1;32m    176\u001b[0m \u001b[0;34m\u001b[0m\u001b[0m\n\u001b[1;32m    177\u001b[0m \u001b[0;34m\u001b[0m\u001b[0m\n",
            "\u001b[0;32m/usr/local/lib/python3.7/dist-packages/coremltools/converters/mil/converter.py\u001b[0m in \u001b[0;36m_mil_convert\u001b[0;34m(model, convert_from, convert_to, registry, modelClass, compute_units, **kwargs)\u001b[0m\n\u001b[1;32m    205\u001b[0m                             \u001b[0mconvert_to\u001b[0m\u001b[0;34m,\u001b[0m\u001b[0;34m\u001b[0m\u001b[0;34m\u001b[0m\u001b[0m\n\u001b[1;32m    206\u001b[0m                             \u001b[0mregistry\u001b[0m\u001b[0;34m,\u001b[0m\u001b[0;34m\u001b[0m\u001b[0;34m\u001b[0m\u001b[0m\n\u001b[0;32m--> 207\u001b[0;31m                             \u001b[0;34m**\u001b[0m\u001b[0mkwargs\u001b[0m\u001b[0;34m\u001b[0m\u001b[0;34m\u001b[0m\u001b[0m\n\u001b[0m\u001b[1;32m    208\u001b[0m                          )\n\u001b[1;32m    209\u001b[0m \u001b[0;34m\u001b[0m\u001b[0m\n",
            "\u001b[0;32m/usr/local/lib/python3.7/dist-packages/coremltools/converters/mil/converter.py\u001b[0m in \u001b[0;36mmil_convert_to_proto\u001b[0;34m(model, convert_from, convert_to, converter_registry, **kwargs)\u001b[0m\n\u001b[1;32m    291\u001b[0m     \u001b[0mfrontend_converter\u001b[0m \u001b[0;34m=\u001b[0m \u001b[0mfrontend_converter_type\u001b[0m\u001b[0;34m(\u001b[0m\u001b[0;34m)\u001b[0m\u001b[0;34m\u001b[0m\u001b[0;34m\u001b[0m\u001b[0m\n\u001b[1;32m    292\u001b[0m \u001b[0;34m\u001b[0m\u001b[0m\n\u001b[0;32m--> 293\u001b[0;31m     \u001b[0mprog\u001b[0m \u001b[0;34m=\u001b[0m \u001b[0mfrontend_converter\u001b[0m\u001b[0;34m(\u001b[0m\u001b[0mmodel\u001b[0m\u001b[0;34m,\u001b[0m \u001b[0;34m**\u001b[0m\u001b[0mkwargs\u001b[0m\u001b[0;34m)\u001b[0m\u001b[0;34m\u001b[0m\u001b[0;34m\u001b[0m\u001b[0m\n\u001b[0m\u001b[1;32m    294\u001b[0m \u001b[0;34m\u001b[0m\u001b[0m\n\u001b[1;32m    295\u001b[0m     \u001b[0;32mif\u001b[0m \u001b[0mconvert_to\u001b[0m\u001b[0;34m.\u001b[0m\u001b[0mlower\u001b[0m\u001b[0;34m(\u001b[0m\u001b[0;34m)\u001b[0m \u001b[0;34m!=\u001b[0m \u001b[0;34m\"neuralnetwork\"\u001b[0m\u001b[0;34m:\u001b[0m\u001b[0;34m\u001b[0m\u001b[0;34m\u001b[0m\u001b[0m\n",
            "\u001b[0;32m/usr/local/lib/python3.7/dist-packages/coremltools/converters/mil/converter.py\u001b[0m in \u001b[0;36m__call__\u001b[0;34m(self, *args, **kwargs)\u001b[0m\n\u001b[1;32m    101\u001b[0m         \u001b[0;32mfrom\u001b[0m \u001b[0;34m.\u001b[0m\u001b[0mfrontend\u001b[0m\u001b[0;34m.\u001b[0m\u001b[0mtorch\u001b[0m \u001b[0;32mimport\u001b[0m \u001b[0mload\u001b[0m\u001b[0;34m\u001b[0m\u001b[0;34m\u001b[0m\u001b[0m\n\u001b[1;32m    102\u001b[0m \u001b[0;34m\u001b[0m\u001b[0m\n\u001b[0;32m--> 103\u001b[0;31m         \u001b[0;32mreturn\u001b[0m \u001b[0mload\u001b[0m\u001b[0;34m(\u001b[0m\u001b[0;34m*\u001b[0m\u001b[0margs\u001b[0m\u001b[0;34m,\u001b[0m \u001b[0;34m**\u001b[0m\u001b[0mkwargs\u001b[0m\u001b[0;34m)\u001b[0m\u001b[0;34m\u001b[0m\u001b[0;34m\u001b[0m\u001b[0m\n\u001b[0m\u001b[1;32m    104\u001b[0m \u001b[0;34m\u001b[0m\u001b[0m\n\u001b[1;32m    105\u001b[0m \u001b[0;34m\u001b[0m\u001b[0m\n",
            "\u001b[0;32m/usr/local/lib/python3.7/dist-packages/coremltools/converters/mil/frontend/torch/load.py\u001b[0m in \u001b[0;36mload\u001b[0;34m(model_spec, debug, **kwargs)\u001b[0m\n\u001b[1;32m     78\u001b[0m             \u001b[0mprint\u001b[0m\u001b[0;34m(\u001b[0m\u001b[0;34m\"the following model ops are MISSING:\"\u001b[0m\u001b[0;34m)\u001b[0m\u001b[0;34m\u001b[0m\u001b[0;34m\u001b[0m\u001b[0m\n\u001b[1;32m     79\u001b[0m             \u001b[0mprint\u001b[0m\u001b[0;34m(\u001b[0m\u001b[0;34m\"\\n\"\u001b[0m\u001b[0;34m.\u001b[0m\u001b[0mjoin\u001b[0m\u001b[0;34m(\u001b[0m\u001b[0;34m[\u001b[0m\u001b[0;34m\"  \"\u001b[0m \u001b[0;34m+\u001b[0m \u001b[0mstr\u001b[0m\u001b[0;34m(\u001b[0m\u001b[0mx\u001b[0m\u001b[0;34m)\u001b[0m \u001b[0;32mfor\u001b[0m \u001b[0mx\u001b[0m \u001b[0;32min\u001b[0m \u001b[0msorted\u001b[0m\u001b[0;34m(\u001b[0m\u001b[0mmissing\u001b[0m\u001b[0;34m)\u001b[0m\u001b[0;34m]\u001b[0m\u001b[0;34m)\u001b[0m\u001b[0;34m)\u001b[0m\u001b[0;34m\u001b[0m\u001b[0;34m\u001b[0m\u001b[0m\n\u001b[0;32m---> 80\u001b[0;31m         \u001b[0;32mraise\u001b[0m \u001b[0me\u001b[0m\u001b[0;34m\u001b[0m\u001b[0;34m\u001b[0m\u001b[0m\n\u001b[0m\u001b[1;32m     81\u001b[0m     \u001b[0;32mexcept\u001b[0m \u001b[0mException\u001b[0m \u001b[0;32mas\u001b[0m \u001b[0me\u001b[0m\u001b[0;34m:\u001b[0m\u001b[0;34m\u001b[0m\u001b[0;34m\u001b[0m\u001b[0m\n\u001b[1;32m     82\u001b[0m         \u001b[0;32mraise\u001b[0m \u001b[0me\u001b[0m\u001b[0;34m\u001b[0m\u001b[0;34m\u001b[0m\u001b[0m\n",
            "\u001b[0;32m/usr/local/lib/python3.7/dist-packages/coremltools/converters/mil/frontend/torch/load.py\u001b[0m in \u001b[0;36mload\u001b[0;34m(model_spec, debug, **kwargs)\u001b[0m\n\u001b[1;32m     70\u001b[0m \u001b[0;34m\u001b[0m\u001b[0m\n\u001b[1;32m     71\u001b[0m     \u001b[0;32mtry\u001b[0m\u001b[0;34m:\u001b[0m\u001b[0;34m\u001b[0m\u001b[0;34m\u001b[0m\u001b[0m\n\u001b[0;32m---> 72\u001b[0;31m         \u001b[0mprog\u001b[0m \u001b[0;34m=\u001b[0m \u001b[0mconverter\u001b[0m\u001b[0;34m.\u001b[0m\u001b[0mconvert\u001b[0m\u001b[0;34m(\u001b[0m\u001b[0;34m)\u001b[0m\u001b[0;34m\u001b[0m\u001b[0;34m\u001b[0m\u001b[0m\n\u001b[0m\u001b[1;32m     73\u001b[0m     \u001b[0;32mexcept\u001b[0m \u001b[0mRuntimeError\u001b[0m \u001b[0;32mas\u001b[0m \u001b[0me\u001b[0m\u001b[0;34m:\u001b[0m\u001b[0;34m\u001b[0m\u001b[0;34m\u001b[0m\u001b[0m\n\u001b[1;32m     74\u001b[0m         \u001b[0;32mif\u001b[0m \u001b[0mdebug\u001b[0m \u001b[0;32mand\u001b[0m \u001b[0;34m\"convert function\"\u001b[0m \u001b[0;32min\u001b[0m \u001b[0mstr\u001b[0m\u001b[0;34m(\u001b[0m\u001b[0me\u001b[0m\u001b[0;34m)\u001b[0m\u001b[0;34m:\u001b[0m\u001b[0;34m\u001b[0m\u001b[0;34m\u001b[0m\u001b[0m\n",
            "\u001b[0;32m/usr/local/lib/python3.7/dist-packages/coremltools/converters/mil/frontend/torch/converter.py\u001b[0m in \u001b[0;36mconvert\u001b[0;34m(self)\u001b[0m\n\u001b[1;32m    227\u001b[0m \u001b[0;34m\u001b[0m\u001b[0m\n\u001b[1;32m    228\u001b[0m             \u001b[0;31m# Add the rest of the operations\u001b[0m\u001b[0;34m\u001b[0m\u001b[0;34m\u001b[0m\u001b[0;34m\u001b[0m\u001b[0m\n\u001b[0;32m--> 229\u001b[0;31m             \u001b[0mconvert_nodes\u001b[0m\u001b[0;34m(\u001b[0m\u001b[0mself\u001b[0m\u001b[0;34m.\u001b[0m\u001b[0mcontext\u001b[0m\u001b[0;34m,\u001b[0m \u001b[0mself\u001b[0m\u001b[0;34m.\u001b[0m\u001b[0mgraph\u001b[0m\u001b[0;34m)\u001b[0m\u001b[0;34m\u001b[0m\u001b[0;34m\u001b[0m\u001b[0m\n\u001b[0m\u001b[1;32m    230\u001b[0m \u001b[0;34m\u001b[0m\u001b[0m\n\u001b[1;32m    231\u001b[0m             \u001b[0mgraph_outputs\u001b[0m \u001b[0;34m=\u001b[0m \u001b[0;34m[\u001b[0m\u001b[0mself\u001b[0m\u001b[0;34m.\u001b[0m\u001b[0mcontext\u001b[0m\u001b[0;34m[\u001b[0m\u001b[0mname\u001b[0m\u001b[0;34m]\u001b[0m \u001b[0;32mfor\u001b[0m \u001b[0mname\u001b[0m \u001b[0;32min\u001b[0m \u001b[0mself\u001b[0m\u001b[0;34m.\u001b[0m\u001b[0mgraph\u001b[0m\u001b[0;34m.\u001b[0m\u001b[0moutputs\u001b[0m\u001b[0;34m]\u001b[0m\u001b[0;34m\u001b[0m\u001b[0;34m\u001b[0m\u001b[0m\n",
            "\u001b[0;32m/usr/local/lib/python3.7/dist-packages/coremltools/converters/mil/frontend/torch/ops.py\u001b[0m in \u001b[0;36mconvert_nodes\u001b[0;34m(context, graph)\u001b[0m\n\u001b[1;32m     65\u001b[0m         \u001b[0;32mif\u001b[0m \u001b[0m_add_op\u001b[0m \u001b[0;32mis\u001b[0m \u001b[0;32mNone\u001b[0m\u001b[0;34m:\u001b[0m\u001b[0;34m\u001b[0m\u001b[0;34m\u001b[0m\u001b[0m\n\u001b[1;32m     66\u001b[0m             raise RuntimeError(\n\u001b[0;32m---> 67\u001b[0;31m                 \u001b[0;34m\"PyTorch convert function for op '{}' not implemented.\"\u001b[0m\u001b[0;34m.\u001b[0m\u001b[0mformat\u001b[0m\u001b[0;34m(\u001b[0m\u001b[0mnode\u001b[0m\u001b[0;34m.\u001b[0m\u001b[0mkind\u001b[0m\u001b[0;34m)\u001b[0m\u001b[0;34m\u001b[0m\u001b[0;34m\u001b[0m\u001b[0m\n\u001b[0m\u001b[1;32m     68\u001b[0m             )\n\u001b[1;32m     69\u001b[0m         \u001b[0;32melse\u001b[0m\u001b[0;34m:\u001b[0m\u001b[0;34m\u001b[0m\u001b[0;34m\u001b[0m\u001b[0m\n",
            "\u001b[0;31mRuntimeError\u001b[0m: PyTorch convert function for op '_convolution_mode' not implemented."
          ]
        }
      ]
    },
    {
      "cell_type": "code",
      "metadata": {
        "colab": {
          "base_uri": "https://localhost:8080/",
          "height": 86,
          "referenced_widgets": [
            "f73f97f6fb2f4eb18250cb44b7934fe4",
            "8ffd0c1af0444860bb5cde487940001e",
            "391dbf3ff22246eda3599e6b9d0f9356",
            "47c047b34d1c4f3ca59ea4caba1747ed",
            "2ea21bc3736b40db834d18cb3ef521cb",
            "abeef69df2554ebebaaf9cc896a16293",
            "7ef424da0c1d46e98d1d7016ba6eeac2",
            "56c6ae6b97f5475c831c294311b8a729",
            "ecfa17798b6e4a6a80d740e9868f22b3",
            "59c3b62188f54d7cbf8ffc44acb80228",
            "d71fa8f3b93441c9a2a5f3869aa8de37"
          ]
        },
        "id": "QT1o5MO3Ycz0",
        "outputId": "8cc222ac-b57f-4d94-bdbb-368699e29750"
      },
      "source": [
        "import torch\n",
        "import torchvision\n",
        "\n",
        "# Load a pre-trained version of MobileNetV2\n",
        "torch_model = torchvision.models.mobilenet_v2(pretrained=True)"
      ],
      "execution_count": null,
      "outputs": [
        {
          "output_type": "stream",
          "text": [
            "Downloading: \"https://download.pytorch.org/models/mobilenet_v2-b0353104.pth\" to /root/.cache/torch/hub/checkpoints/mobilenet_v2-b0353104.pth\n"
          ],
          "name": "stderr"
        },
        {
          "output_type": "display_data",
          "data": {
            "application/vnd.jupyter.widget-view+json": {
              "model_id": "f73f97f6fb2f4eb18250cb44b7934fe4",
              "version_minor": 0,
              "version_major": 2
            },
            "text/plain": [
              "  0%|          | 0.00/13.6M [00:00<?, ?B/s]"
            ]
          },
          "metadata": {}
        }
      ]
    },
    {
      "cell_type": "code",
      "metadata": {
        "id": "yzUOWlKpii1F"
      },
      "source": [
        "torch_model.eval()"
      ],
      "execution_count": null,
      "outputs": []
    },
    {
      "cell_type": "code",
      "metadata": {
        "id": "IYOFBgN2ilgN"
      },
      "source": [
        "# Trace with random data\n",
        "example_input = torch.rand(1, 3, 224, 224) # after test, will get 'size mismatch' error message with size 256x256\n",
        "traced_model = torch.jit.trace(torch_model, example_input)"
      ],
      "execution_count": null,
      "outputs": []
    },
    {
      "cell_type": "code",
      "metadata": {
        "id": "1gRyHdg7ioSa",
        "colab": {
          "base_uri": "https://localhost:8080/"
        },
        "outputId": "51cfe0a6-17f9-4086-8d34-92b187ddb92b"
      },
      "source": [
        "mlmodel = ct.convert(\n",
        "    traced_model,\n",
        "    inputs=[ct.ImageType(name=\"input_1\", shape=example_input.shape)] #name \"input_1\" is used in 'quickstart'\n",
        ")"
      ],
      "execution_count": null,
      "outputs": [
        {
          "output_type": "stream",
          "text": [
            "Converting Frontend ==> MIL Ops: 100%|█████████▉| 384/385 [00:00<00:00, 985.19 ops/s] \n",
            "Running MIL Common passes: 100%|██████████| 31/31 [00:00<00:00, 50.24 passes/s] \n",
            "Running MIL Clean up passes: 100%|██████████| 8/8 [00:00<00:00, 100.01 passes/s]\n",
            "Translating MIL ==> NeuralNetwork Ops: 100%|██████████| 495/495 [00:00<00:00, 822.70 ops/s] \n"
          ],
          "name": "stderr"
        }
      ]
    }
  ]
}